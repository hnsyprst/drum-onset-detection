{
 "cells": [
  {
   "cell_type": "code",
   "execution_count": 1,
   "metadata": {},
   "outputs": [],
   "source": [
    "from pathlib import Path"
   ]
  },
  {
   "cell_type": "code",
   "execution_count": 4,
   "metadata": {},
   "outputs": [],
   "source": [
    "one_hot_512 = Path(r\"F:\\Work2\\drum-onset-detection\\data\\ADTOF-master\\portable-dataset\\annotations\\one_hot\\512\")\n",
    "one_hot_1024 = Path(r\"F:\\Work2\\drum-onset-detection\\data\\ADTOF-master\\portable-dataset\\annotations\\one_hot\\1024\")"
   ]
  },
  {
   "cell_type": "code",
   "execution_count": 10,
   "metadata": {},
   "outputs": [
    {
     "data": {
      "text/plain": [
       "(1582, 1535)"
      ]
     },
     "execution_count": 10,
     "metadata": {},
     "output_type": "execute_result"
    }
   ],
   "source": [
    "one_hot_512_set = {file.stem for file in one_hot_512.iterdir()}\n",
    "one_hot_1024_set = {file.stem for file in one_hot_1024.iterdir()}\n",
    "len(one_hot_512_set), len(one_hot_1024_set)"
   ]
  },
  {
   "cell_type": "code",
   "execution_count": 11,
   "metadata": {},
   "outputs": [
    {
     "data": {
      "text/plain": [
       "1534"
      ]
     },
     "execution_count": 11,
     "metadata": {},
     "output_type": "execute_result"
    }
   ],
   "source": [
    "intersection = set.intersection(one_hot_512_set, one_hot_1024_set)\n",
    "len(intersection)"
   ]
  },
  {
   "cell_type": "code",
   "execution_count": 13,
   "metadata": {},
   "outputs": [
    {
     "data": {
      "text/plain": [
       "(1534, 1534)"
      ]
     },
     "execution_count": 13,
     "metadata": {},
     "output_type": "execute_result"
    }
   ],
   "source": [
    "one_hot_512_match = [file for file in one_hot_512.iterdir() if file.stem in intersection]\n",
    "one_hot_1024_match = [file for file in one_hot_1024.iterdir() if file.stem in intersection]\n",
    "len(one_hot_512_match), len(one_hot_1024_match)"
   ]
  },
  {
   "cell_type": "code",
   "execution_count": 16,
   "metadata": {},
   "outputs": [],
   "source": [
    "import shutil\n",
    "\n",
    "audio_dir = Path(r\"F:\\Work2\\drum-onset-detection\\data\\ADTOF-master\\dataset\\audio\\audio\")\n",
    "new_audio_dir = Path(r\"F:\\Work2\\drum-onset-detection\\data\\ADTOF-master\\portable-dataset\\audio\\audio\")\n",
    "new_dir_512 = Path(r\"F:\\Work2\\drum-onset-detection\\data\\ADTOF-master\\portable-dataset\\annotations\\one_hot\\512_new\")\n",
    "new_dir_1024 = Path(r\"F:\\Work2\\drum-onset-detection\\data\\ADTOF-master\\portable-dataset\\annotations\\one_hot\\1024_new\")\n",
    "\n",
    "for idx, file_512 in enumerate(one_hot_512_match):\n",
    "    shutil.copy(file_512, new_dir_512 / f\"{idx}.npy\")\n",
    "    shutil.copy(one_hot_1024 / file_512.name, new_dir_1024 / f\"{idx}.npy\")\n",
    "    shutil.copy(audio_dir / f\"{file_512.stem}.wav\", new_audio_dir / f\"{idx}.wav\")"
   ]
  }
 ],
 "metadata": {
  "kernelspec": {
   "display_name": ".venv",
   "language": "python",
   "name": "python3"
  },
  "language_info": {
   "codemirror_mode": {
    "name": "ipython",
    "version": 3
   },
   "file_extension": ".py",
   "mimetype": "text/x-python",
   "name": "python",
   "nbconvert_exporter": "python",
   "pygments_lexer": "ipython3",
   "version": "3.10.6"
  },
  "orig_nbformat": 4
 },
 "nbformat": 4,
 "nbformat_minor": 2
}
